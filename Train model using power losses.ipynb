{
 "cells": [
  {
   "cell_type": "code",
   "execution_count": 1,
   "metadata": {},
   "outputs": [],
   "source": [
    "import numpy as np # linear algebra\n",
    "import pandas as pd # data processing, CSV file I/O (e.g. pd.read_csv)\n",
    "import matplotlib.pyplot as plt\n",
    "from tensorflow import keras\n",
    "from tensorflow.keras.callbacks import EarlyStopping, ModelCheckpoint, ReduceLROnPlateau, CSVLogger\n",
    "import tensorflow.keras.backend as K\n",
    "import sklearn\n",
    "import sklearn.preprocessing\n",
    "from sklearn.model_selection import train_test_split\n",
    "import pickle\n",
    "import tensorflow as tf\n",
    "import os\n",
    "from PIL import Image\n",
    "import sys\n",
    "from models import u_net_mod_lev\n",
    "from utils import build_arrays_from_path, generator_from_list\n",
    "\n",
    "tf.keras.backend.set_image_data_format(\"channels_last\")"
   ]
  },
  {
   "cell_type": "code",
   "execution_count": 2,
   "metadata": {},
   "outputs": [
    {
     "name": "stdout",
     "output_type": "stream",
     "text": [
      "1.12.0\n",
      "2.1.6-tf\n"
     ]
    }
   ],
   "source": [
    "print(tf.__version__)\n",
    "print(keras.__version__)"
   ]
  },
  {
   "cell_type": "code",
   "execution_count": 3,
   "metadata": {},
   "outputs": [],
   "source": [
    "available_losses = [\n",
    "    'categorical_crossentropy',\n",
    "    'classical_jaccard',\n",
    "    'jaccard_power_15', # p = 1.5\n",
    "    'jaccard_power_20', # p = 2\n",
    "]"
   ]
  },
  {
   "cell_type": "markdown",
   "metadata": {},
   "source": [
    "Change the selected_loss in order to train a model with a different loss function. Other parameters such as nb_filters, batch_size and epochs can be modified in order to evaluate different scenarios"
   ]
  },
  {
   "cell_type": "code",
   "execution_count": 4,
   "metadata": {},
   "outputs": [
    {
     "name": "stdout",
     "output_type": "stream",
     "text": [
      "categorical_crossentropy\n"
     ]
    }
   ],
   "source": [
    "selected_loss = available_losses[0]\n",
    "print(selected_loss)"
   ]
  },
  {
   "cell_type": "markdown",
   "metadata": {},
   "source": [
    "Before running this notebook, do not forget to unzip the folder data.zip"
   ]
  },
  {
   "cell_type": "code",
   "execution_count": null,
   "metadata": {},
   "outputs": [],
   "source": [
    "#base_path = 'data/Datasets2020/power_losses/mixed_mnist/v17/'\n",
    "base_path = 'data/'\n",
    "\n",
    "nb_filters = 8 # 2, 4, 8\n",
    "batch_size = 10 #1, 10, 50\n",
    "\n",
    "epochs = 100"
   ]
  },
  {
   "cell_type": "code",
   "execution_count": null,
   "metadata": {},
   "outputs": [],
   "source": [
    "def jaccard_pow_loss(y_true, y_pred, p_value=2.0,smooth = 10):\n",
    "    p_value = POWER_VALUE\n",
    "    y_true_f = K.flatten(y_true)\n",
    "    y_pred_f = K.flatten(y_pred)\n",
    "\n",
    "    intersection = K.sum(y_true_f * y_pred_f)\n",
    "    term_true = K.sum(K.pow(y_true_f, p_value))\n",
    "    term_pred = K.sum(K.pow(y_pred_f, p_value))\n",
    "    union = term_true + term_pred - intersection\n",
    "    return 1 - ((intersection + smooth) / (union + smooth))\n"
   ]
  },
  {
   "cell_type": "code",
   "execution_count": null,
   "metadata": {},
   "outputs": [],
   "source": [
    "if selected_loss == 'categorical_crossentropy':\n",
    "    loss = selected_loss\n",
    "    POWER_VALUE = 0.0\n",
    "elif selected_loss == 'classical_jaccard':\n",
    "    loss = jaccard_pow_loss\n",
    "    POWER_VALUE = 1.0\n",
    "elif selected_loss == 'jaccard_power_15':\n",
    "    loss = jaccard_pow_loss\n",
    "    POWER_VALUE = 1.5\n",
    "elif selected_loss == 'jaccard_power_20':\n",
    "    loss = jaccard_pow_loss\n",
    "    POWER_VALUE = 2.0    "
   ]
  },
  {
   "cell_type": "code",
   "execution_count": null,
   "metadata": {},
   "outputs": [
    {
     "name": "stdout",
     "output_type": "stream",
     "text": [
      "selected_loss categorical_crossentropy\n",
      "p_value 0.0\n",
      "filters 8\n",
      "batch_size 10\n"
     ]
    }
   ],
   "source": [
    "print(\"selected_loss\", selected_loss)\n",
    "print(\"p_value\", POWER_VALUE)\n",
    "print(\"filters\", nb_filters)\n",
    "print(\"batch_size\", batch_size)"
   ]
  },
  {
   "cell_type": "code",
   "execution_count": null,
   "metadata": {},
   "outputs": [],
   "source": [
    "# Other parameters\n",
    "num_samples_train = 1000\n",
    "noise_rate = 0.1\n",
    "num_samples_val = int(num_samples_train*0.2)\n",
    "patience_epochs = 5\n",
    "conv_sampling = True\n",
    "HEIGHT, WIDTH = 32, 32\n",
    "N_CLASSES = 10"
   ]
  },
  {
   "cell_type": "code",
   "execution_count": null,
   "metadata": {},
   "outputs": [],
   "source": [
    "base_path_train = base_path + 'train'\n",
    "pathimagetrain = base_path_train +'/images/'\n",
    "pathgttrain= base_path_train + '/gt/'\n",
    "\n",
    "base_path_validation = base_path + 'validation'\n",
    "pathimageval = base_path_validation +'/images/'\n",
    "pathgtval= base_path_validation + '/gt/'     "
   ]
  },
  {
   "cell_type": "code",
   "execution_count": null,
   "metadata": {},
   "outputs": [
    {
     "name": "stdout",
     "output_type": "stream",
     "text": [
      "list_train_images 1000\n",
      "list_train_images 200\n"
     ]
    }
   ],
   "source": [
    "list_train_images = os.listdir(pathimagetrain)\n",
    "list_train_images.sort()\n",
    "list_train_images = list_train_images[:num_samples_train]\n",
    "\n",
    "list_validation_images = os.listdir(pathimageval)\n",
    "list_validation_images.sort()\n",
    "list_validation_images = list_validation_images[:num_samples_val]\n",
    "\n",
    "print(\"list_train_images\", len(list_train_images) )\n",
    "print(\"list_train_images\", len(list_validation_images) )"
   ]
  },
  {
   "cell_type": "code",
   "execution_count": null,
   "metadata": {},
   "outputs": [],
   "source": [
    "train_generator = generator_from_list(pathimagetrain, list_train_images, pathgttrain, N_CLASSES, HEIGHT, WIDTH, is_train_set=True, batch_size=batch_size)\n",
    "val_generator = generator_from_list(pathimageval, list_validation_images, pathgtval, N_CLASSES, HEIGHT, WIDTH, is_train_set=False, batch_size=batch_size)"
   ]
  },
  {
   "cell_type": "code",
   "execution_count": null,
   "metadata": {},
   "outputs": [
    {
     "name": "stdout",
     "output_type": "stream",
     "text": [
      "__________________________________________________________________________________________________\n",
      "Layer (type)                    Output Shape         Param #     Connected to                     \n",
      "==================================================================================================\n",
      "input_1 (InputLayer)            (None, 32, 32, 1)    0                                            \n",
      "__________________________________________________________________________________________________\n",
      "conv1_1 (Conv2D)                (None, 32, 32, 8)    80          input_1[0][0]                    \n",
      "__________________________________________________________________________________________________\n",
      "activation (Activation)         (None, 32, 32, 8)    0           conv1_1[0][0]                    \n",
      "__________________________________________________________________________________________________\n",
      "conv1_2 (Conv2D)                (None, 32, 32, 8)    584         activation[0][0]                 \n",
      "__________________________________________________________________________________________________\n",
      "activation_1 (Activation)       (None, 32, 32, 8)    0           conv1_2[0][0]                    \n",
      "__________________________________________________________________________________________________\n",
      "conv2d (Conv2D)                 (None, 16, 16, 8)    584         activation_1[0][0]               \n",
      "__________________________________________________________________________________________________\n",
      "conv2_1 (Conv2D)                (None, 16, 16, 16)   1168        conv2d[0][0]                     \n",
      "__________________________________________________________________________________________________\n",
      "activation_2 (Activation)       (None, 16, 16, 16)   0           conv2_1[0][0]                    \n",
      "__________________________________________________________________________________________________\n",
      "conv2_2 (Conv2D)                (None, 16, 16, 16)   2320        activation_2[0][0]               \n",
      "__________________________________________________________________________________________________\n",
      "activation_3 (Activation)       (None, 16, 16, 16)   0           conv2_2[0][0]                    \n",
      "__________________________________________________________________________________________________\n",
      "conv2d_1 (Conv2D)               (None, 8, 8, 16)     2320        activation_3[0][0]               \n",
      "__________________________________________________________________________________________________\n",
      "conv3_1 (Conv2D)                (None, 8, 8, 32)     4640        conv2d_1[0][0]                   \n",
      "__________________________________________________________________________________________________\n",
      "activation_4 (Activation)       (None, 8, 8, 32)     0           conv3_1[0][0]                    \n",
      "__________________________________________________________________________________________________\n",
      "conv3_2 (Conv2D)                (None, 8, 8, 32)     9248        activation_4[0][0]               \n",
      "__________________________________________________________________________________________________\n",
      "activation_5 (Activation)       (None, 8, 8, 32)     0           conv3_2[0][0]                    \n",
      "__________________________________________________________________________________________________\n",
      "conv2d_2 (Conv2D)               (None, 4, 4, 32)     9248        activation_5[0][0]               \n",
      "__________________________________________________________________________________________________\n",
      "conv4_1 (Conv2D)                (None, 4, 4, 64)     18496       conv2d_2[0][0]                   \n",
      "__________________________________________________________________________________________________\n",
      "activation_6 (Activation)       (None, 4, 4, 64)     0           conv4_1[0][0]                    \n",
      "__________________________________________________________________________________________________\n",
      "conv4_2 (Conv2D)                (None, 4, 4, 64)     36928       activation_6[0][0]               \n",
      "__________________________________________________________________________________________________\n",
      "activation_7 (Activation)       (None, 4, 4, 64)     0           conv4_2[0][0]                    \n",
      "__________________________________________________________________________________________________\n",
      "conv2d_transpose (Conv2DTranspo (None, 8, 8, 64)     36928       activation_7[0][0]               \n",
      "__________________________________________________________________________________________________\n",
      "concatenate (Concatenate)       (None, 8, 8, 96)     0           conv2d_transpose[0][0]           \n",
      "                                                                 activation_5[0][0]               \n",
      "__________________________________________________________________________________________________\n",
      "conv5_1 (Conv2D)                (None, 8, 8, 32)     27680       concatenate[0][0]                \n",
      "__________________________________________________________________________________________________\n",
      "activation_8 (Activation)       (None, 8, 8, 32)     0           conv5_1[0][0]                    \n",
      "__________________________________________________________________________________________________\n",
      "conv5_2 (Conv2D)                (None, 8, 8, 32)     9248        activation_8[0][0]               \n",
      "__________________________________________________________________________________________________\n",
      "activation_9 (Activation)       (None, 8, 8, 32)     0           conv5_2[0][0]                    \n",
      "__________________________________________________________________________________________________\n",
      "conv2d_transpose_1 (Conv2DTrans (None, 16, 16, 32)   9248        activation_9[0][0]               \n",
      "__________________________________________________________________________________________________\n",
      "concatenate_1 (Concatenate)     (None, 16, 16, 48)   0           conv2d_transpose_1[0][0]         \n",
      "                                                                 activation_3[0][0]               \n",
      "__________________________________________________________________________________________________\n",
      "conv6_1 (Conv2D)                (None, 16, 16, 16)   6928        concatenate_1[0][0]              \n",
      "__________________________________________________________________________________________________\n",
      "activation_10 (Activation)      (None, 16, 16, 16)   0           conv6_1[0][0]                    \n",
      "__________________________________________________________________________________________________\n",
      "conv6_2 (Conv2D)                (None, 16, 16, 16)   2320        activation_10[0][0]              \n",
      "__________________________________________________________________________________________________\n",
      "activation_11 (Activation)      (None, 16, 16, 16)   0           conv6_2[0][0]                    \n",
      "__________________________________________________________________________________________________\n",
      "conv2d_transpose_2 (Conv2DTrans (None, 32, 32, 16)   2320        activation_11[0][0]              \n",
      "__________________________________________________________________________________________________\n",
      "concatenate_2 (Concatenate)     (None, 32, 32, 24)   0           conv2d_transpose_2[0][0]         \n",
      "                                                                 activation_1[0][0]               \n",
      "__________________________________________________________________________________________________\n",
      "conv7_1 (Conv2D)                (None, 32, 32, 8)    1736        concatenate_2[0][0]              \n",
      "__________________________________________________________________________________________________\n",
      "activation_12 (Activation)      (None, 32, 32, 8)    0           conv7_1[0][0]                    \n",
      "__________________________________________________________________________________________________\n",
      "conv7_2 (Conv2D)                (None, 32, 32, 8)    584         activation_12[0][0]              \n",
      "__________________________________________________________________________________________________\n",
      "activation_13 (Activation)      (None, 32, 32, 8)    0           conv7_2[0][0]                    \n",
      "__________________________________________________________________________________________________\n",
      "gaussian_noise (GaussianNoise)  (None, 32, 32, 8)    0           activation_13[0][0]              \n",
      "__________________________________________________________________________________________________\n",
      "out (Conv2D)                    (None, 32, 32, 10)   90          gaussian_noise[0][0]             \n",
      "==================================================================================================\n",
      "Total params: 182,698\n",
      "Trainable params: 182,698\n",
      "Non-trainable params: 0\n",
      "__________________________________________________________________________________________________\n"
     ]
    }
   ],
   "source": [
    "model = u_net_mod_lev((HEIGHT, WIDTH, 1), nb_levels = 4, nb_filters_0 = nb_filters, output_channels = N_CLASSES, sigma_noise = noise_rate, conv_sampling = conv_sampling)\n",
    "model.summary()\n",
    "\n",
    "model.compile(loss=loss,\n",
    "              optimizer=keras.optimizers.Adam(0.001),\n",
    "              metrics=['accuracy'])\n",
    "\n",
    "cb = [\n",
    "    EarlyStopping(monitor='val_loss', patience=patience_epochs, verbose=0, mode='min'),\n",
    "    #ModelCheckpoint(output_model, save_best_only=True, monitor='val_loss', mode='min'),\n",
    "    ReduceLROnPlateau(monitor='val_loss', factor=0.1, patience=7, verbose=1, min_delta=1e-4, mode='min'),\n",
    "    #CSVLogger(csv_path, separator=',', append=True)\n",
    "]\n"
   ]
  },
  {
   "cell_type": "code",
   "execution_count": null,
   "metadata": {},
   "outputs": [
    {
     "name": "stdout",
     "output_type": "stream",
     "text": [
      "Epoch 1/100\n",
      " - 5s - loss: 3.5130 - acc: 0.0859 - val_loss: 3.6502 - val_acc: 0.0205\n",
      "Epoch 2/100\n",
      " - 3s - loss: 3.4959 - acc: 0.1456 - val_loss: 3.4437 - val_acc: 0.0118\n",
      "Epoch 3/100\n",
      " - 3s - loss: 3.4897 - acc: 0.1131 - val_loss: 3.4891 - val_acc: 0.0210\n",
      "Epoch 4/100\n",
      " - 3s - loss: 3.2422 - acc: 0.0437 - val_loss: 3.1976 - val_acc: 0.0312\n",
      "Epoch 5/100\n",
      " - 4s - loss: 3.0011 - acc: 0.0297 - val_loss: 3.0524 - val_acc: 0.0299\n",
      "Epoch 6/100\n",
      " - 4s - loss: 2.7571 - acc: 0.0398 - val_loss: 2.7208 - val_acc: 0.0455\n",
      "Epoch 7/100\n",
      " - 4s - loss: 2.7376 - acc: 0.0600 - val_loss: 2.8642 - val_acc: 0.0448\n",
      "Epoch 8/100\n",
      " - 4s - loss: 2.5670 - acc: 0.0675 - val_loss: 2.4845 - val_acc: 0.0491\n",
      "Epoch 9/100\n",
      " - 4s - loss: 2.3784 - acc: 0.0468 - val_loss: 2.4670 - val_acc: 0.0466\n",
      "Epoch 10/100\n",
      " - 4s - loss: 2.3121 - acc: 0.0529 - val_loss: 2.3875 - val_acc: 0.0488\n",
      "Epoch 11/100\n",
      " - 4s - loss: 2.1931 - acc: 0.0510 - val_loss: 2.3452 - val_acc: 0.0606\n",
      "Epoch 12/100\n",
      " - 4s - loss: 2.2622 - acc: 0.0880 - val_loss: 2.5925 - val_acc: 0.1050\n",
      "Epoch 13/100\n",
      " - 4s - loss: 2.1281 - acc: 0.0735 - val_loss: 2.3895 - val_acc: 0.0489\n",
      "Epoch 14/100\n",
      " - 4s - loss: 1.8481 - acc: 0.1215 - val_loss: 2.6881 - val_acc: 0.1162\n",
      "Epoch 15/100\n",
      " - 4s - loss: 1.8539 - acc: 0.1678 - val_loss: 2.0288 - val_acc: 0.1773\n",
      "Epoch 16/100\n",
      " - 4s - loss: 1.6918 - acc: 0.1976 - val_loss: 1.8604 - val_acc: 0.1824\n",
      "Epoch 17/100\n",
      " - 4s - loss: 2.1090 - acc: 0.1883 - val_loss: 2.0529 - val_acc: 0.2275\n",
      "Epoch 18/100\n",
      " - 4s - loss: 2.0118 - acc: 0.2555 - val_loss: 2.9445 - val_acc: 0.1692\n",
      "Epoch 19/100\n",
      " - 4s - loss: 1.5667 - acc: 0.2536 - val_loss: 1.7738 - val_acc: 0.2271\n",
      "Epoch 20/100\n",
      " - 4s - loss: 1.3156 - acc: 0.2302 - val_loss: 1.8524 - val_acc: 0.1536\n",
      "Epoch 21/100\n",
      " - 4s - loss: 1.1276 - acc: 0.2065 - val_loss: 1.8348 - val_acc: 0.2188\n",
      "Epoch 22/100\n",
      " - 4s - loss: 1.0598 - acc: 0.1913 - val_loss: 1.6978 - val_acc: 0.1768\n",
      "Epoch 23/100\n",
      " - 4s - loss: 1.2089 - acc: 0.1913 - val_loss: 1.8602 - val_acc: 0.1837\n",
      "Epoch 24/100\n",
      " - 4s - loss: 1.0632 - acc: 0.1743 - val_loss: 1.4796 - val_acc: 0.2175\n",
      "Epoch 25/100\n",
      " - 4s - loss: 0.9980 - acc: 0.1919 - val_loss: 1.5089 - val_acc: 0.1315\n",
      "Epoch 26/100\n",
      " - 4s - loss: 1.0505 - acc: 0.1452 - val_loss: 1.6235 - val_acc: 0.1888\n",
      "Epoch 27/100\n",
      " - 4s - loss: 1.1474 - acc: 0.1304 - val_loss: 1.5242 - val_acc: 0.0901\n",
      "Epoch 28/100\n"
     ]
    }
   ],
   "source": [
    "H = model.fit_generator(train_generator,\n",
    "                    epochs=epochs, \n",
    "                    steps_per_epoch = num_samples_train // batch_size,\n",
    "                    validation_data=val_generator,\n",
    "                    validation_steps=num_samples_val // batch_size,\n",
    "                    callbacks= cb,\n",
    "                    verbose=2\n",
    "         )"
   ]
  },
  {
   "cell_type": "code",
   "execution_count": null,
   "metadata": {},
   "outputs": [],
   "source": [
    "plt.figure(figsize=(10,3))\n",
    "plt.subplot(1,2,1)\n",
    "plt.title(\"loss\")\n",
    "plt.plot(H.history['val_loss'], label='val_loss')\n",
    "plt.plot(H.history['loss'], label='loss')\n",
    "plt.xlabel(\"epochs\")\n",
    "plt.legend()\n",
    "plt.grid()\n",
    "\n",
    "plt.subplot(1,2,2)\n",
    "plt.title(\"accuracy\")\n",
    "plt.plot(H.history['val_acc'], label='val_acc')\n",
    "plt.plot(H.history['acc'], label='acc')\n",
    "plt.legend()\n",
    "plt.xlabel(\"epochs\")\n",
    "plt.grid()\n",
    "plt.show()"
   ]
  },
  {
   "cell_type": "markdown",
   "metadata": {},
   "source": [
    "## Evaluate model on test data"
   ]
  },
  {
   "cell_type": "code",
   "execution_count": null,
   "metadata": {},
   "outputs": [],
   "source": [
    "base_path_test = base_path + 'test'\n",
    "pathimagetest = base_path_test +'/images/'\n",
    "pathgttest= base_path_test + '/gt/'\n",
    "\n",
    "xtest, ytest = build_arrays_from_path(pathimagetest, pathgttest)\n"
   ]
  },
  {
   "cell_type": "code",
   "execution_count": null,
   "metadata": {},
   "outputs": [],
   "source": [
    "number_of_tests = 10"
   ]
  },
  {
   "cell_type": "code",
   "execution_count": null,
   "metadata": {},
   "outputs": [],
   "source": [
    "for k in range(number_of_tests):\n",
    "    i = np.random.randint(xtest.shape[0])\n",
    "    sample_to_predict = xtest[i,:,:,:]\n",
    "    sample_to_predict = np.expand_dims(sample_to_predict, 0)\n",
    "    y_pred = model.predict(sample_to_predict)    \n",
    "    \n",
    "    plt.title(\"test image \" + str(k) )\n",
    "    plt.imshow(sample_to_predict[0,:,:,0])\n",
    "    plt.show()\n",
    "    y_sample = ytest[i,:,:,:]\n",
    "\n",
    "    plt.figure(figsize=(20,8))\n",
    "    for j in range(N_CLASSES):\n",
    "        plt.subplot(2,5,j + 1)\n",
    "        plt.title(\"Prediction channel \" + str(j))\n",
    "        plt.imshow(y_pred[0,:,:,j], vmin=0, vmax=1)\n",
    "    plt.show() \n",
    "    print(\"*\"*10)\n",
    "    print(\"*\"*10)\n",
    "    print(\"*\"*10)\n",
    "    "
   ]
  }
 ],
 "metadata": {
  "kernelspec": {
   "display_name": "Python 3",
   "language": "python",
   "name": "python3"
  },
  "language_info": {
   "codemirror_mode": {
    "name": "ipython",
    "version": 3
   },
   "file_extension": ".py",
   "mimetype": "text/x-python",
   "name": "python",
   "nbconvert_exporter": "python",
   "pygments_lexer": "ipython3",
   "version": "3.6.8"
  }
 },
 "nbformat": 4,
 "nbformat_minor": 2
}
