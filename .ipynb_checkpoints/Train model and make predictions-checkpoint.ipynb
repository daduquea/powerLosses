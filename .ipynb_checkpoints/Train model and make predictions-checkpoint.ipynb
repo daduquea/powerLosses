{
 "cells": [
  {
   "cell_type": "code",
   "execution_count": 1,
   "metadata": {},
   "outputs": [],
   "source": [
    "import numpy as np # linear algebra\n",
    "import pandas as pd # data processing, CSV file I/O (e.g. pd.read_csv)\n",
    "import matplotlib.pyplot as plt\n",
    "from tensorflow import keras\n",
    "from tensorflow.keras.callbacks import EarlyStopping, ModelCheckpoint, ReduceLROnPlateau, CSVLogger\n",
    "import tensorflow.keras.backend as K\n",
    "import sklearn\n",
    "import sklearn.preprocessing\n",
    "from sklearn.model_selection import train_test_split\n",
    "import pickle\n",
    "import tensorflow as tf\n",
    "import os\n",
    "from PIL import Image\n",
    "import sys\n",
    "from models import u_net_mod_lev\n"
   ]
  },
  {
   "cell_type": "code",
   "execution_count": 2,
   "metadata": {},
   "outputs": [],
   "source": [
    "available_losses = [\n",
    "    'categorical_crossentropy',\n",
    "    'classical_jaccard',\n",
    "    'jaccard_power_15', # p = 1.5\n",
    "    'jaccard_power_20', # p = 2\n",
    "]"
   ]
  },
  {
   "cell_type": "code",
   "execution_count": 3,
   "metadata": {},
   "outputs": [
    {
     "name": "stdout",
     "output_type": "stream",
     "text": [
      "jaccard_power_20\n"
     ]
    }
   ],
   "source": [
    "selected_loss = available_losses[3]\n",
    "print(selected_loss)"
   ]
  },
  {
   "cell_type": "code",
   "execution_count": 4,
   "metadata": {},
   "outputs": [
    {
     "name": "stdout",
     "output_type": "stream",
     "text": [
      "tf antes channels_first\n",
      "tf despues channels_last\n"
     ]
    }
   ],
   "source": [
    "print(\"tf antes\", tf.keras.backend.image_data_format())\n",
    "tf.keras.backend.set_image_data_format(\"channels_last\")\n",
    "print(\"tf despues\", tf.keras.backend.image_data_format())"
   ]
  },
  {
   "cell_type": "code",
   "execution_count": 5,
   "metadata": {},
   "outputs": [],
   "source": [
    "base_path = '/data/Datasets2020/power_losses/mixed_mnist/v17/'\n",
    "\n",
    "nb_filters = 8\n",
    "batch_size = 10\n",
    "\n",
    "epochs = 100\n",
    "num_samples_train = 1000"
   ]
  },
  {
   "cell_type": "code",
   "execution_count": 6,
   "metadata": {},
   "outputs": [],
   "source": [
    "def get_time():\n",
    "    import datetime\n",
    "    return datetime.datetime.now().strftime(\"%Y-%m-%d_%H:%M:%S\")\n",
    "\n",
    "\n",
    "def jaccard_pow_loss(y_true, y_pred, p_value=2.0,smooth = 10):\n",
    "    p_value = POWER_VALUE\n",
    "    y_true_f = K.flatten(y_true)\n",
    "    y_pred_f = K.flatten(y_pred)\n",
    "\n",
    "    intersection = K.sum(y_true_f * y_pred_f)\n",
    "    term_true = K.sum(K.pow(y_true_f, p_value))\n",
    "    term_pred = K.sum(K.pow(y_pred_f, p_value))\n",
    "    union = term_true + term_pred - intersection\n",
    "    return 1 - ((intersection + smooth) / (union + smooth))\n"
   ]
  },
  {
   "cell_type": "code",
   "execution_count": 7,
   "metadata": {},
   "outputs": [
    {
     "name": "stdout",
     "output_type": "stream",
     "text": [
      "jaccard_power_20\n"
     ]
    }
   ],
   "source": [
    "print(selected_loss)"
   ]
  },
  {
   "cell_type": "code",
   "execution_count": 8,
   "metadata": {},
   "outputs": [
    {
     "name": "stdout",
     "output_type": "stream",
     "text": [
      "loss_string jaccard_power_20\n",
      "p_value 2.0\n",
      "filters 8\n",
      "batch_size 10\n"
     ]
    }
   ],
   "source": [
    "if selected_loss == 'categorical_crossentropy':\n",
    "    loss = selected_loss\n",
    "    POWER_VALUE = 0.0\n",
    "elif selected_loss == 'classical_jaccard':\n",
    "    loss = jaccard_pow_loss\n",
    "    POWER_VALUE = 1.0\n",
    "elif selected_loss == 'jaccard_power_15':\n",
    "    loss = jaccard_pow_loss\n",
    "    POWER_VALUE = 1.5\n",
    "elif selected_loss == 'jaccard_power_20':\n",
    "    loss = jaccard_pow_loss\n",
    "    POWER_VALUE = 2.0    \n",
    "print(\"loss_string\", selected_loss)\n",
    "print(\"p_value\", POWER_VALUE)\n",
    "print(\"filters\", nb_filters)\n",
    "print(\"batch_size\", batch_size)"
   ]
  },
  {
   "cell_type": "code",
   "execution_count": 9,
   "metadata": {},
   "outputs": [],
   "source": [
    "noise_rate = 0.1\n",
    "num_samples_val = int(num_samples_train*0.2)\n",
    "patience_epochs = 5\n",
    "test_name = get_time()\n",
    "conv_sampling = True\n",
    "HEIGHT, WIDTH = 32, 32\n",
    "N_CLASSES = 10"
   ]
  },
  {
   "cell_type": "code",
   "execution_count": 10,
   "metadata": {},
   "outputs": [],
   "source": [
    "base_path_train = base_path + 'train'\n",
    "pathimagetrain = base_path_train +'/images/'\n",
    "pathgttrain= base_path_train + '/gt/'\n",
    "\n",
    "base_path_validation = base_path + 'validation'\n",
    "pathimageval = base_path_validation +'/images/'\n",
    "pathgtval= base_path_validation + '/gt/'\n",
    "\n",
    "def generator_from_list(path_to_images, list_of_images, path_to_gt, num_classes, is_train_set = True, batch_size = 1):\n",
    "    X_return, Y_return = np.empty([batch_size, WIDTH, HEIGHT, 1]), np.empty([batch_size, WIDTH, HEIGHT, N_CLASSES])\n",
    "    i_sample = 0\n",
    "    while True:\n",
    "        random_index = np.random.choice(len(list_of_images))\n",
    "        file_name = list_of_images[random_index]\n",
    "        #print(is_train_set, \"reading:\", file_name)\n",
    "        I_img = Image.open(path_to_images + file_name).convert('RGB')\n",
    "        I = np.array(I_img)/255.\n",
    "\n",
    "        gt_file_name = file_name.split('.')[0] + '.npy'\n",
    "        Y = np.load(path_to_gt+gt_file_name)\n",
    "\n",
    "        X = I[:,:,0]\n",
    "\n",
    "        X=np.expand_dims(X,axis=2)\n",
    "\n",
    "        Y = Y[:,:,:-1] # discard channel of background\n",
    "        \n",
    "        X_return[i_sample,:,:,:] = X\n",
    "        Y_return[i_sample,:,:,:] = Y\n",
    "        i_sample += 1\n",
    "        if i_sample == batch_size:\n",
    "            #print(np.unique(X_return), np.unique(Y_return))\n",
    "            yield X_return,Y_return\n",
    "            X_return, Y_return = np.empty([batch_size, WIDTH, HEIGHT, 1]), np.empty([batch_size, WIDTH, HEIGHT, N_CLASSES])\n",
    "            i_sample = 0        \n"
   ]
  },
  {
   "cell_type": "code",
   "execution_count": 11,
   "metadata": {},
   "outputs": [
    {
     "name": "stdout",
     "output_type": "stream",
     "text": [
      "list_train_images 1000\n",
      "list_train_images 200\n"
     ]
    }
   ],
   "source": [
    "list_train_images = os.listdir(pathimagetrain)\n",
    "list_train_images.sort()\n",
    "list_train_images = list_train_images[:num_samples_train]\n",
    "\n",
    "list_validation_images = os.listdir(pathimageval)\n",
    "list_validation_images.sort()\n",
    "list_validation_images = list_validation_images[:num_samples_val]\n",
    "\n",
    "print(\"list_train_images\", len(list_train_images) )\n",
    "print(\"list_train_images\", len(list_validation_images) )"
   ]
  },
  {
   "cell_type": "code",
   "execution_count": 12,
   "metadata": {},
   "outputs": [],
   "source": [
    "train_generator = generator_from_list(pathimagetrain, list_train_images, pathgttrain, N_CLASSES, is_train_set=True, batch_size=batch_size)\n",
    "val_generator = generator_from_list(pathimageval, list_validation_images, pathgtval, N_CLASSES, is_train_set=False, batch_size=batch_size)"
   ]
  },
  {
   "cell_type": "code",
   "execution_count": 13,
   "metadata": {},
   "outputs": [
    {
     "name": "stdout",
     "output_type": "stream",
     "text": [
      "__________________________________________________________________________________________________\n",
      "Layer (type)                    Output Shape         Param #     Connected to                     \n",
      "==================================================================================================\n",
      "input_1 (InputLayer)            (None, 32, 32, 1)    0                                            \n",
      "__________________________________________________________________________________________________\n",
      "conv1_1 (Conv2D)                (None, 32, 32, 8)    80          input_1[0][0]                    \n",
      "__________________________________________________________________________________________________\n",
      "activation (Activation)         (None, 32, 32, 8)    0           conv1_1[0][0]                    \n",
      "__________________________________________________________________________________________________\n",
      "conv1_2 (Conv2D)                (None, 32, 32, 8)    584         activation[0][0]                 \n",
      "__________________________________________________________________________________________________\n",
      "activation_1 (Activation)       (None, 32, 32, 8)    0           conv1_2[0][0]                    \n",
      "__________________________________________________________________________________________________\n",
      "conv2d (Conv2D)                 (None, 16, 16, 8)    584         activation_1[0][0]               \n",
      "__________________________________________________________________________________________________\n",
      "conv2_1 (Conv2D)                (None, 16, 16, 16)   1168        conv2d[0][0]                     \n",
      "__________________________________________________________________________________________________\n",
      "activation_2 (Activation)       (None, 16, 16, 16)   0           conv2_1[0][0]                    \n",
      "__________________________________________________________________________________________________\n",
      "conv2_2 (Conv2D)                (None, 16, 16, 16)   2320        activation_2[0][0]               \n",
      "__________________________________________________________________________________________________\n",
      "activation_3 (Activation)       (None, 16, 16, 16)   0           conv2_2[0][0]                    \n",
      "__________________________________________________________________________________________________\n",
      "conv2d_1 (Conv2D)               (None, 8, 8, 16)     2320        activation_3[0][0]               \n",
      "__________________________________________________________________________________________________\n",
      "conv3_1 (Conv2D)                (None, 8, 8, 32)     4640        conv2d_1[0][0]                   \n",
      "__________________________________________________________________________________________________\n",
      "activation_4 (Activation)       (None, 8, 8, 32)     0           conv3_1[0][0]                    \n",
      "__________________________________________________________________________________________________\n",
      "conv3_2 (Conv2D)                (None, 8, 8, 32)     9248        activation_4[0][0]               \n",
      "__________________________________________________________________________________________________\n",
      "activation_5 (Activation)       (None, 8, 8, 32)     0           conv3_2[0][0]                    \n",
      "__________________________________________________________________________________________________\n",
      "conv2d_2 (Conv2D)               (None, 4, 4, 32)     9248        activation_5[0][0]               \n",
      "__________________________________________________________________________________________________\n",
      "conv4_1 (Conv2D)                (None, 4, 4, 64)     18496       conv2d_2[0][0]                   \n",
      "__________________________________________________________________________________________________\n",
      "activation_6 (Activation)       (None, 4, 4, 64)     0           conv4_1[0][0]                    \n",
      "__________________________________________________________________________________________________\n",
      "conv4_2 (Conv2D)                (None, 4, 4, 64)     36928       activation_6[0][0]               \n",
      "__________________________________________________________________________________________________\n",
      "activation_7 (Activation)       (None, 4, 4, 64)     0           conv4_2[0][0]                    \n",
      "__________________________________________________________________________________________________\n",
      "conv2d_transpose (Conv2DTranspo (None, 8, 8, 64)     36928       activation_7[0][0]               \n",
      "__________________________________________________________________________________________________\n",
      "concatenate (Concatenate)       (None, 8, 8, 96)     0           conv2d_transpose[0][0]           \n",
      "                                                                 activation_5[0][0]               \n",
      "__________________________________________________________________________________________________\n",
      "conv5_1 (Conv2D)                (None, 8, 8, 32)     27680       concatenate[0][0]                \n",
      "__________________________________________________________________________________________________\n",
      "activation_8 (Activation)       (None, 8, 8, 32)     0           conv5_1[0][0]                    \n",
      "__________________________________________________________________________________________________\n",
      "conv5_2 (Conv2D)                (None, 8, 8, 32)     9248        activation_8[0][0]               \n",
      "__________________________________________________________________________________________________\n",
      "activation_9 (Activation)       (None, 8, 8, 32)     0           conv5_2[0][0]                    \n",
      "__________________________________________________________________________________________________\n",
      "conv2d_transpose_1 (Conv2DTrans (None, 16, 16, 32)   9248        activation_9[0][0]               \n",
      "__________________________________________________________________________________________________\n",
      "concatenate_1 (Concatenate)     (None, 16, 16, 48)   0           conv2d_transpose_1[0][0]         \n",
      "                                                                 activation_3[0][0]               \n",
      "__________________________________________________________________________________________________\n",
      "conv6_1 (Conv2D)                (None, 16, 16, 16)   6928        concatenate_1[0][0]              \n",
      "__________________________________________________________________________________________________\n",
      "activation_10 (Activation)      (None, 16, 16, 16)   0           conv6_1[0][0]                    \n",
      "__________________________________________________________________________________________________\n",
      "conv6_2 (Conv2D)                (None, 16, 16, 16)   2320        activation_10[0][0]              \n",
      "__________________________________________________________________________________________________\n",
      "activation_11 (Activation)      (None, 16, 16, 16)   0           conv6_2[0][0]                    \n",
      "__________________________________________________________________________________________________\n",
      "conv2d_transpose_2 (Conv2DTrans (None, 32, 32, 16)   2320        activation_11[0][0]              \n",
      "__________________________________________________________________________________________________\n",
      "concatenate_2 (Concatenate)     (None, 32, 32, 24)   0           conv2d_transpose_2[0][0]         \n",
      "                                                                 activation_1[0][0]               \n",
      "__________________________________________________________________________________________________\n",
      "conv7_1 (Conv2D)                (None, 32, 32, 8)    1736        concatenate_2[0][0]              \n",
      "__________________________________________________________________________________________________\n",
      "activation_12 (Activation)      (None, 32, 32, 8)    0           conv7_1[0][0]                    \n",
      "__________________________________________________________________________________________________\n",
      "conv7_2 (Conv2D)                (None, 32, 32, 8)    584         activation_12[0][0]              \n",
      "__________________________________________________________________________________________________\n",
      "activation_13 (Activation)      (None, 32, 32, 8)    0           conv7_2[0][0]                    \n",
      "__________________________________________________________________________________________________\n",
      "gaussian_noise (GaussianNoise)  (None, 32, 32, 8)    0           activation_13[0][0]              \n",
      "__________________________________________________________________________________________________\n",
      "out (Conv2D)                    (None, 32, 32, 10)   90          gaussian_noise[0][0]             \n",
      "==================================================================================================\n",
      "Total params: 182,698\n",
      "Trainable params: 182,698\n",
      "Non-trainable params: 0\n",
      "__________________________________________________________________________________________________\n"
     ]
    }
   ],
   "source": [
    "model = u_net_mod_lev((HEIGHT, WIDTH, 1), nb_levels = 4, nb_filters_0 = nb_filters, output_channels = N_CLASSES, sigma_noise = noise_rate, conv_sampling = conv_sampling)\n",
    "model.summary()\n",
    "\n",
    "model.compile(loss=loss,\n",
    "              optimizer=keras.optimizers.Adam(0.001),\n",
    "              metrics=['accuracy'])\n",
    "\n",
    "cb = [\n",
    "    EarlyStopping(monitor='val_loss', patience=patience_epochs, verbose=0, mode='min'),\n",
    "    #ModelCheckpoint(output_model, save_best_only=True, monitor='val_loss', mode='min'),\n",
    "    ReduceLROnPlateau(monitor='val_loss', factor=0.1, patience=7, verbose=1, min_delta=1e-4, mode='min'),\n",
    "    #CSVLogger(csv_path, separator=',', append=True)\n",
    "]\n"
   ]
  },
  {
   "cell_type": "code",
   "execution_count": 14,
   "metadata": {},
   "outputs": [
    {
     "name": "stdout",
     "output_type": "stream",
     "text": [
      "Epoch 1/100\n",
      " - 5s - loss: 0.9495 - acc: 0.7863 - val_loss: 0.9366 - val_acc: 0.8479\n",
      "Epoch 2/100\n",
      " - 3s - loss: 0.9312 - acc: 0.8643 - val_loss: 0.9123 - val_acc: 0.8777\n",
      "Epoch 3/100\n",
      " - 3s - loss: 0.8171 - acc: 0.7719 - val_loss: 0.7660 - val_acc: 0.7601\n",
      "Epoch 4/100\n",
      " - 3s - loss: 0.7436 - acc: 0.3583 - val_loss: 0.6849 - val_acc: 0.5705\n",
      "Epoch 5/100\n",
      " - 3s - loss: 0.7016 - acc: 0.5903 - val_loss: 0.6829 - val_acc: 0.6673\n",
      "Epoch 6/100\n",
      " - 3s - loss: 0.6747 - acc: 0.2833 - val_loss: 0.6441 - val_acc: 0.1395\n",
      "Epoch 7/100\n",
      " - 3s - loss: 0.6315 - acc: 0.0979 - val_loss: 0.6924 - val_acc: 0.0511\n",
      "Epoch 8/100\n",
      " - 3s - loss: 0.5981 - acc: 0.0969 - val_loss: 0.5653 - val_acc: 0.1036\n",
      "Epoch 9/100\n",
      " - 3s - loss: 0.5387 - acc: 0.1200 - val_loss: 0.4965 - val_acc: 0.1266\n",
      "Epoch 10/100\n",
      " - 3s - loss: 0.4881 - acc: 0.1318 - val_loss: 0.4840 - val_acc: 0.1322\n",
      "Epoch 11/100\n",
      " - 3s - loss: 0.4472 - acc: 0.1267 - val_loss: 0.4922 - val_acc: 0.1283\n",
      "Epoch 12/100\n",
      " - 3s - loss: 0.4070 - acc: 0.1375 - val_loss: 0.4206 - val_acc: 0.1392\n",
      "Epoch 13/100\n",
      " - 3s - loss: 0.3949 - acc: 0.1487 - val_loss: 0.3956 - val_acc: 0.1621\n",
      "Epoch 14/100\n",
      " - 3s - loss: 0.3532 - acc: 0.1463 - val_loss: 0.4006 - val_acc: 0.1584\n",
      "Epoch 15/100\n",
      " - 3s - loss: 0.3423 - acc: 0.1514 - val_loss: 0.4056 - val_acc: 0.1873\n",
      "Epoch 16/100\n",
      " - 3s - loss: 0.4383 - acc: 0.1354 - val_loss: 0.3997 - val_acc: 0.1425\n",
      "Epoch 17/100\n",
      " - 3s - loss: 0.2337 - acc: 0.1598 - val_loss: 0.2746 - val_acc: 0.1542\n",
      "Epoch 18/100\n",
      " - 3s - loss: 0.2049 - acc: 0.1694 - val_loss: 0.3226 - val_acc: 0.1578\n",
      "Epoch 19/100\n",
      " - 3s - loss: 0.2210 - acc: 0.1584 - val_loss: 0.2946 - val_acc: 0.1550\n",
      "Epoch 20/100\n",
      " - 3s - loss: 0.2084 - acc: 0.1718 - val_loss: 0.2507 - val_acc: 0.1786\n",
      "Epoch 21/100\n",
      " - 3s - loss: 0.2183 - acc: 0.1746 - val_loss: 0.2334 - val_acc: 0.1743\n",
      "Epoch 22/100\n",
      " - 3s - loss: 0.1973 - acc: 0.1692 - val_loss: 0.3550 - val_acc: 0.1495\n",
      "Epoch 23/100\n",
      " - 3s - loss: 0.1732 - acc: 0.1640 - val_loss: 0.2826 - val_acc: 0.1578\n",
      "Epoch 24/100\n",
      " - 3s - loss: 0.1832 - acc: 0.1603 - val_loss: 0.2887 - val_acc: 0.1499\n",
      "Epoch 25/100\n",
      " - 3s - loss: 0.1495 - acc: 0.1717 - val_loss: 0.2404 - val_acc: 0.1538\n",
      "Epoch 26/100\n",
      " - 3s - loss: 0.1177 - acc: 0.1702 - val_loss: 0.2176 - val_acc: 0.1650\n",
      "Epoch 27/100\n",
      " - 3s - loss: 0.1184 - acc: 0.1749 - val_loss: 0.2409 - val_acc: 0.2363\n",
      "Epoch 28/100\n",
      " - 3s - loss: 0.1256 - acc: 0.1737 - val_loss: 0.1992 - val_acc: 0.1566\n",
      "Epoch 29/100\n",
      " - 3s - loss: 0.1126 - acc: 0.1744 - val_loss: 0.1914 - val_acc: 0.1746\n",
      "Epoch 30/100\n",
      " - 3s - loss: 0.0739 - acc: 0.1897 - val_loss: 0.2165 - val_acc: 0.1626\n",
      "Epoch 31/100\n",
      " - 3s - loss: 0.0845 - acc: 0.1789 - val_loss: 0.2513 - val_acc: 0.1758\n",
      "Epoch 32/100\n",
      " - 3s - loss: 0.1146 - acc: 0.1737 - val_loss: 0.2290 - val_acc: 0.1731\n",
      "Epoch 33/100\n",
      " - 3s - loss: 0.0939 - acc: 0.1764 - val_loss: 0.2549 - val_acc: 0.1612\n",
      "Epoch 34/100\n",
      " - 3s - loss: 0.0993 - acc: 0.1754 - val_loss: 0.1837 - val_acc: 0.1617\n",
      "Epoch 35/100\n",
      " - 3s - loss: 0.0774 - acc: 0.1730 - val_loss: 0.1637 - val_acc: 0.1670\n",
      "Epoch 36/100\n",
      " - 3s - loss: 0.0701 - acc: 0.1743 - val_loss: 0.2108 - val_acc: 0.1952\n",
      "Epoch 37/100\n",
      " - 3s - loss: 0.0859 - acc: 0.1942 - val_loss: 0.2788 - val_acc: 0.1597\n",
      "Epoch 38/100\n",
      " - 3s - loss: 0.0936 - acc: 0.1892 - val_loss: 0.1899 - val_acc: 0.1787\n",
      "Epoch 39/100\n",
      " - 3s - loss: 0.0832 - acc: 0.1782 - val_loss: 0.2534 - val_acc: 0.1565\n",
      "Epoch 40/100\n",
      " - 3s - loss: 0.1829 - acc: 0.1701 - val_loss: 0.3544 - val_acc: 0.1338\n"
     ]
    }
   ],
   "source": [
    "H = model.fit_generator(train_generator,\n",
    "                    epochs=epochs, \n",
    "                    steps_per_epoch = num_samples_train // batch_size,\n",
    "                    validation_data=val_generator,\n",
    "                    validation_steps=num_samples_val // batch_size,\n",
    "                    callbacks= cb,\n",
    "                    verbose=2\n",
    "         )"
   ]
  },
  {
   "cell_type": "code",
   "execution_count": 15,
   "metadata": {},
   "outputs": [
    {
     "data": {
      "image/png": "[encoded data removed]",
      "text/plain": [
       "<Figure size 720x216 with 2 Axes>"
      ]
     },
     "metadata": {
      "needs_background": "light"
     },
     "output_type": "display_data"
    }
   ],
   "source": [
    "plt.figure(figsize=(10,3))\n",
    "plt.subplot(1,2,1)\n",
    "plt.title(\"loss\")\n",
    "plt.plot(H.history['val_loss'], label='val_loss')\n",
    "plt.plot(H.history['loss'], label='loss')\n",
    "plt.xlabel(\"epochs\")\n",
    "plt.legend()\n",
    "plt.grid()\n",
    "\n",
    "plt.subplot(1,2,2)\n",
    "plt.title(\"accuracy\")\n",
    "plt.plot(H.history['val_acc'], label='val_acc')\n",
    "plt.plot(H.history['acc'], label='acc')\n",
    "plt.legend()\n",
    "plt.xlabel(\"epochs\")\n",
    "plt.grid()\n",
    "plt.show()"
   ]
  },
  {
   "cell_type": "markdown",
   "metadata": {},
   "source": [
    "## Evaluate model on test data"
   ]
  },
  {
   "cell_type": "code",
   "execution_count": 16,
   "metadata": {},
   "outputs": [],
   "source": [
    "def build_arrays_from_path(path_to_img, path_to_gt):\n",
    "    y_list = list()\n",
    "    x_list = list()\n",
    "    list_of_names = os.listdir(path_to_img)\n",
    "    list_of_names.sort()\n",
    "    for filename in list_of_names:\n",
    "        I_img = Image.open(path_to_img+filename).convert('RGB')\n",
    "        I = np.array(I_img)/255.\n",
    "        gt_file_name = filename.split('.')[0] + '.npy'\n",
    "        Y = np.load(path_to_gt+gt_file_name)\n",
    "        Y = Y[:,:,:-1]\n",
    "\n",
    "        x_list.append(I[:,:,0].reshape([I.shape[0], I.shape[1], 1]))\n",
    "        y_list.append(Y)    \n",
    "\n",
    "    return np.array(x_list), np.array(y_list)\n",
    "\n",
    "\n",
    "\n",
    "base_path_test = base_path + 'test'\n",
    "pathimagetest = base_path_test +'/images/'\n",
    "pathgttest= base_path_test + '/gt/'\n",
    "\n",
    "xtest, ytest = build_arrays_from_path(pathimagetest, pathgttest)\n"
   ]
  },
  {
   "cell_type": "code",
   "execution_count": 17,
   "metadata": {},
   "outputs": [],
   "source": [
    "i = np.random.randint(xtest.shape[0])\n",
    "sample_to_predict = xtest[i,:,:,:]\n",
    "sample_to_predict = np.expand_dims(sample_to_predict, 0)\n",
    "y_pred = model.predict(sample_to_predict)"
   ]
  },
  {
   "cell_type": "code",
   "execution_count": 18,
   "metadata": {},
   "outputs": [
    {
     "data": {
      "image/png": "[encoded data removed]",
      "text/plain": [
       "<Figure size 432x288 with 1 Axes>"
      ]
     },
     "metadata": {
      "needs_background": "light"
     },
     "output_type": "display_data"
    },
    {
     "data": {
      "image/png": "[encoded data removed]",
      "text/plain": [
       "<Figure size 1440x576 with 10 Axes>"
      ]
     },
     "metadata": {
      "needs_background": "light"
     },
     "output_type": "display_data"
    },
    {
     "data": {
      "image/png": "[encoded data removed]",
      "text/plain": [
       "<Figure size 1440x576 with 10 Axes>"
      ]
     },
     "metadata": {
      "needs_background": "light"
     },
     "output_type": "display_data"
    }
   ],
   "source": [
    "plt.title(\"input image\")\n",
    "plt.imshow(sample_to_predict[0,:,:,0])\n",
    "plt.show()\n",
    "y_sample = ytest[i,:,:,:]\n",
    "\n",
    "plt.figure(figsize=(20,8))\n",
    "for j in range(N_CLASSES):\n",
    "    plt.subplot(2,5,j + 1)\n",
    "    plt.title(\"GT channel \" + str(j))\n",
    "    plt.imshow(y_sample[:,:,j])\n",
    "plt.show()\n",
    "\n",
    "plt.figure(figsize=(20,8))\n",
    "for j in range(N_CLASSES):\n",
    "    plt.subplot(2,5,j + 1)\n",
    "    plt.title(\"Predicted channel \" + str(j))\n",
    "    plt.imshow(y_pred[0,:,:,j], vmin=0, vmax=1)\n",
    "plt.show()"
   ]
  }
 ],
 "metadata": {
  "kernelspec": {
   "display_name": "Python 3",
   "language": "python",
   "name": "python3"
  },
  "language_info": {
   "codemirror_mode": {
    "name": "ipython",
    "version": 3
   },
   "file_extension": ".py",
   "mimetype": "text/x-python",
   "name": "python",
   "nbconvert_exporter": "python",
   "pygments_lexer": "ipython3",
   "version": "3.6.8"
  }
 },
 "nbformat": 4,
 "nbformat_minor": 2
}
